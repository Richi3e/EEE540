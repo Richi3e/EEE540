{
 "cells": [
  {
   "cell_type": "code",
   "execution_count": 1,
   "id": "1f809d5a-9aec-47ae-bef1-167282362a2e",
   "metadata": {},
   "outputs": [
    {
     "name": "stdout",
     "output_type": "stream",
     "text": [
      "Accuracy: 0.75\n",
      "Perceptron Confusion Matrix:  [[32  0]\n",
      " [11  1]]\n"
     ]
    },
    {
     "name": "stderr",
     "output_type": "stream",
     "text": [
      "c:\\Users\\RICHARD\\anaconda3\\Lib\\site-packages\\sklearn\\utils\\validation.py:1184: DataConversionWarning: A column-vector y was passed when a 1d array was expected. Please change the shape of y to (n_samples, ), for example using ravel().\n",
      "  y = column_or_1d(y, warn=True)\n"
     ]
    }
   ],
   "source": [
    " from sklearn.datasets import load_breast_cancer\n",
    " from sklearn.linear_model import Perceptron\n",
    " from sklearn.model_selection import train_test_split\n",
    " from sklearn.metrics import accuracy_score\n",
    " from sklearn.metrics import confusion_matrix\n",
    " import pandas as pd\n",
    "\n",
    " #Load the breast_cancer dataset\n",
    " breast_cancer = load_breast_cancer()\n",
    " #View the breast_cancer data keys\n",
    " breast_cancer.keys()\n",
    "#it is a key of dictionary breast_cancer\n",
    " breast_cancer.target_names\n",
    " ##Convert data and target into a data frame.\n",
    " #Extract the First 100 Features\n",
    " X = pd.DataFrame(data = breast_cancer.data[:((59 % 50) + 100),:], columns = breast_cancer.feature_names)\n",
    " X.head(100) #Inspect the features\n",
    " #Target\n",
    " y = pd.DataFrame(data=breast_cancer.target[:((59 % 50) + 100)], columns = ['breast_cancerType'])\n",
    " y.head(100)\n",
    " # Split the dataset into training and testing sets\n",
    " X_train, X_test, y_train, y_test = train_test_split(X, y, test_size=0.4, random_state=42)\n",
    "# Create a Perceptron classifier\n",
    " mdlPercept = Perceptron()\n",
    " # Train the classifier\n",
    " mdlPercept.fit(X_train, y_train)\n",
    " # Make predictions on the test set\n",
    " y_pred = mdlPercept.predict(X_test)\n",
    " # Calculate accuracy of the classifier\n",
    " accuracy = accuracy_score(y_test, y_pred)\n",
    " print(\"Accuracy:\", accuracy)\n",
    " #Generate the Confusion Matrix\n",
    " print(\"Perceptron Confusion Matrix: \",confusion_matrix(y_test, y_pred))"
   ]
  },
  {
   "cell_type": "code",
   "execution_count": null,
   "id": "b502c94c-f186-4976-98aa-979c89d982a6",
   "metadata": {},
   "outputs": [],
   "source": []
  }
 ],
 "metadata": {
  "kernelspec": {
   "display_name": "Python 3 (ipykernel)",
   "language": "python",
   "name": "python3"
  },
  "language_info": {
   "codemirror_mode": {
    "name": "ipython",
    "version": 3
   },
   "file_extension": ".py",
   "mimetype": "text/x-python",
   "name": "python",
   "nbconvert_exporter": "python",
   "pygments_lexer": "ipython3",
   "version": "3.11.5"
  }
 },
 "nbformat": 4,
 "nbformat_minor": 5
}
